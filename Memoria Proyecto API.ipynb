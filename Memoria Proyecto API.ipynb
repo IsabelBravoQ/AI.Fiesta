{
 "cells": [
  {
   "cell_type": "markdown",
   "id": "83a5a73d",
   "metadata": {},
   "source": [
    "![Logo](imagenes/banner.png)"
   ]
  },
  {
   "cell_type": "markdown",
   "id": "5f648b00",
   "metadata": {},
   "source": [
    "# **MEMORIA PROYECTO IA GENERATIVA APLICADO CON APIs**"
   ]
  },
  {
   "cell_type": "markdown",
   "id": "a090a750",
   "metadata": {},
   "source": [
    "El objetivo del proyecto es el de crear una aplicación de consultas mediante chat con una IA generativa. \n",
    "\n",
    "El tema elegido es un organizador de fiestas temáticas. AI.Fiesta.\n",
    "\n",
    "* Para ello nos conectaremos a una de las IAs LLM disponibles mediante su API (gpt de openai), donde le indicaremos el rol que tiene y le daremos instrucciones de la forma con la que tiene que responder elaborando un prompt.\n",
    "* También crearemos una base de datos en AWS donde se almacenen esos chats.\n",
    "* Para el backend crearemos una API que conecte la API de la IA a nuestra base de datos mediante endpoints y a su vez con la interfaz.\n",
    "* Todo esto se verá reflejado en un frontend donde el usuario interactuará con la IA para obtener la información deseada.\n",
    "* Por último, dockerizaremos el proyecto, encapsulándolo en una imagen con Docker."
   ]
  },
  {
   "cell_type": "markdown",
   "id": "b293a462",
   "metadata": {},
   "source": [
    "\n",
    "![Logo](imagenes/esquema_blanco.png)"
   ]
  },
  {
   "cell_type": "code",
   "execution_count": 1,
   "id": "9e2e9297",
   "metadata": {},
   "outputs": [],
   "source": [
    "# LIBRERIAS QUE UTILIZAMOS:\n",
    "from flask import request, Flask, jsonify\n",
    "import json\n",
    "import psycopg2\n",
    "import os\n",
    "from datetime import datetime\n",
    "from groq import Groq"
   ]
  },
  {
   "cell_type": "markdown",
   "id": "99d12da0",
   "metadata": {},
   "source": [
    "## **BASE DE DATOS Y CONEXIÓN A AURORA & RDS (AWS)** "
   ]
  },
  {
   "cell_type": "markdown",
   "id": "160e8749",
   "metadata": {},
   "source": [
    "Creamos una base de datos en AWS con motor PostgreSQL y la conectamos a la nuestra a través de pgAdmin 4. Creamos nuestra base de datos en PostgreSQL. Aquí también comprobaremos que las preguntas de los usuarios, las respuestas y la fecha de esas preguntas se van guardando correctamente."
   ]
  },
  {
   "cell_type": "code",
   "execution_count": null,
   "id": "28dca3e0",
   "metadata": {},
   "outputs": [],
   "source": [
    "# Creamos la base de datos en PostgreSQL\n",
    "\n",
    "\"\"\"\n",
    "CREATE TABLE preguntas_respuestas(\n",
    "    id SERIAL PRIMARY KEY,\n",
    "    p_tema TEXT NOT NULL,\n",
    "    edad_invitados TEXT NOT NULL,\n",
    "    numero_invitados INTEGER,\n",
    "    presupuesto TEXT NOT NULL,\n",
    "    lugar TEXT NOT NULL,\n",
    "    fecha TIMESTAMP DEFAULT CURRENT_TIMESTAMP,\n",
    "    r_tema TEXT NOT NULL,\n",
    "    r_musica TEXT [] NOT NULL,\n",
    "    r_decoracion TEXT [] NOT NULL,\n",
    "    r_juegos TEXT [] NOT NULL,\n",
    "    r_comida TEXT [] NOT NULL,\n",
    "    r_bebidas TEXT [] NOT NULL\n",
    "    );\n",
    "\"\"\""
   ]
  },
  {
   "cell_type": "code",
   "execution_count": null,
   "id": "53b16c5f",
   "metadata": {},
   "outputs": [],
   "source": [
    "os.environ[\"PASSWORD_AWS\"]= \"****\"\n",
    "os.environ[\"HOST_AWS\"]= \"****.rds.amazonaws.com\""
   ]
  },
  {
   "cell_type": "code",
   "execution_count": 3,
   "id": "87fa4843",
   "metadata": {},
   "outputs": [],
   "source": [
    "config = {\n",
    "    \"host\":os.environ.get(\"HOST_AWS\"),\n",
    "    \"user\":\"postgres\",\n",
    "    \"password\":os.environ.get(\"PASSWORD_AWS\"),\n",
    "    \"port\": 5432,\n",
    "    \"dbname\": \"postgres\"\n",
    "}"
   ]
  },
  {
   "cell_type": "code",
   "execution_count": 4,
   "id": "5537f510",
   "metadata": {},
   "outputs": [
    {
     "name": "stdout",
     "output_type": "stream",
     "text": [
      "conexión establecida\n"
     ]
    }
   ],
   "source": [
    "# Nos conectamos a la base de datos:\n",
    "try:\n",
    "    \n",
    "    con = psycopg2.connect(**config)\n",
    "    print(\"conexión establecida\")\n",
    "    con.close()\n",
    "except Exception as e:\n",
    "    print(\"conexión no establecida, algo falla\")"
   ]
  },
  {
   "cell_type": "code",
   "execution_count": 5,
   "id": "934f6b59",
   "metadata": {},
   "outputs": [],
   "source": [
    "# Creamos cursor:\n",
    "\n",
    "def bbdd(p_tema,edad_invitados,numero_invitados,presupuesto,lugar,r_tema,r_musica,r_decoracion,r_juegos,r_comida,r_bebidas):\n",
    "\n",
    "    conn = psycopg2.connect(**config)\n",
    "    cursor= conn.cursor()\n",
    "\n",
    "    query = \"\"\"INSERT INTO preguntas_respuestas (p_tema, edad_invitados, numero_invitados, presupuesto, lugar, fecha,\n",
    "            r_tema, r_musica, r_decoracion, r_juegos, r_comida, r_bebidas) VALUES (%s,%s,%s,%s,%s,%s,%s,%s,%s,%s,%s,%s)\"\"\"\n",
    "\n",
    "    cursor.execute(query,(p_tema, edad_invitados, numero_invitados, presupuesto, lugar, datetime.now(),\n",
    "        r_tema, r_musica, r_decoracion, r_juegos, r_comida, r_bebidas))\n",
    "    \n",
    "    conn.commit()\n",
    "    cursor.close()\n",
    "    conn.close()\n",
    "\n",
    "    return \"ok\"\n",
    "   "
   ]
  },
  {
   "cell_type": "markdown",
   "id": "4e3d4f1d",
   "metadata": {},
   "source": [
    "--------------------------------------------------------"
   ]
  },
  {
   "cell_type": "markdown",
   "id": "e1b6e0e5",
   "metadata": {},
   "source": [
    "## **CONEXIÓN API GROQ PARA LLM** "
   ]
  },
  {
   "cell_type": "code",
   "execution_count": null,
   "id": "7dd6256e",
   "metadata": {},
   "outputs": [],
   "source": [
    "os.environ['KEY_GROQ'] = \"****\""
   ]
  },
  {
   "cell_type": "code",
   "execution_count": null,
   "id": "18856da3",
   "metadata": {},
   "outputs": [],
   "source": [
    "# FIESTAS TEMATICAS\n",
    "\n",
    "def llm(p_tema,edad_invitados,numero_invitados,presupuesto,lugar):\n",
    "    \n",
    "    client = Groq(\n",
    "        api_key=os.environ.get(\"KEY_GROQ\"),\n",
    "    )\n",
    "\n",
    "    system_prompt = \"\"\"\n",
    "            Eres un organizador de fiestas temáticas. \n",
    "            Tu misión es crear planes completos de fiestas adaptados a la temática, la edad de los invitados y el número de personas.\n",
    "\n",
    "            Reglas:\n",
    "            - SOLO puedes responder sobre fiestas, celebraciones y organización de eventos. Responde en castellano de España.\n",
    "            - Si el usuario pregunta por otro tema, responde:\n",
    "            \"Solo puedo ayudarte a organizar fiestas temáticas. ¿Quieres que te sugiera ideas para una celebración?\"\n",
    "            - LÍMITE: máximo 4 elementos en cada lista y solo strings (sin descripciones largas).\n",
    "            - Debes devolver SIEMPRE un JSON válido con esta estructura:\n",
    "\n",
    "            {\n",
    "            \"música\": [\"string\", \"...\"],\n",
    "            \"decoración\": [\"string\", \"...\"],\n",
    "            \"juegos\": [\"string\", \"...\"],\n",
    "            \"comida\": [\"string\", \"...\"],\n",
    "            \"bebidas\": [\"string\", \"...\"]\n",
    "            }\n",
    "\n",
    "            Detalles:\n",
    "            - Ajusta la música, juegos y decoración a la temática. Se riguroso con la música y las actividades sugeridas que sean de la temática.\n",
    "            - La comida y las bebidas deben ser adecuadas a la edad de los invitados. Si es de adultos, sugiere 1 coctel. Si es de niños o adolescentes, nada de alcholo\n",
    "            - Escala las sugerencias según el número de invitados (ej. cantidad de comida o tipo de juegos).\n",
    "            - Responde SOLO con json (sin texto fuera del json)\n",
    "\n",
    "\n",
    "            Ejemplo de salida:\n",
    "                    {\n",
    "            \"tema\": \"Años 80\",\n",
    "            \"música\": [ \"Queen\", \"Glam Metal\", \"Madonna\"\n",
    "            ],\n",
    "            \"decoración\": [\n",
    "                \"Globos de neón\",\n",
    "                \"Carteles retro ochenteros\"\n",
    "            ],\n",
    "            \"juegos\": [\n",
    "                \"Concurso de baile estilo ochentero\",\n",
    "                \"Trivia musical de los 80\"\n",
    "            ],\n",
    "            \"comida\": [\n",
    "                \"Mini hamburguesas\",\n",
    "                \"Palomitas de colores\"\n",
    "            ],\n",
    "            \"bebidas\": [\n",
    "                \"Cóctel Blue Lagoon\",\n",
    "                \"Refrescos clásicos (Coca-Cola en botellas de vidrio)\"\n",
    "            ]\n",
    "            }\n",
    "        \"\"\"\n",
    "    \n",
    "    user_prompt = f\"\"\"\n",
    "        Temática: {p_tema}\n",
    "        Edad de invitados: {edad_invitados}\n",
    "        Número de invitados: {numero_invitados}\n",
    "        Presupuesto: {presupuesto}\n",
    "        Lugar: {lugar}\n",
    "        \"\"\".strip()\n",
    "\n",
    "    chat_completion = client.chat.completions.create(\n",
    "        messages=[\n",
    "            {\n",
    "                \"role\": \"system\",\n",
    "                \"content\": system_prompt\n",
    "            },\n",
    "            {\n",
    "                \"role\":\"user\",\n",
    "                \"content\": user_prompt\n",
    "            }\n",
    "        ],\n",
    "        model=\"openai/gpt-oss-20b\",\n",
    "        max_tokens=1500,\n",
    "        temperature=0.2,\n",
    "        response_format={\"type\": \"json_object\"},\n",
    "        stream=False,\n",
    "    )\n",
    "\n",
    "    text = chat_completion.choices[0].message.content\n",
    "    data = json.loads(text)\n",
    "    return data"
   ]
  },
  {
   "cell_type": "code",
   "execution_count": 10,
   "id": "adf22770",
   "metadata": {},
   "outputs": [
    {
     "name": "stdout",
     "output_type": "stream",
     "text": [
      "ok\n"
     ]
    }
   ],
   "source": [
    "# Checkeo de que funciona\n",
    "\n",
    "plan = llm(\"Años 80\", \"adolescentes\", 10, \"alto\", \"pub\")\n",
    "\n",
    "r_tema       = plan.get(\"tema\", \"Años 80\")\n",
    "r_musica     = plan.get(\"música\", [])\n",
    "r_decoracion = plan.get(\"decoración\", [])\n",
    "r_juegos     = plan.get(\"juegos\", [])\n",
    "r_comida     = plan.get(\"comida\", [])\n",
    "r_bebidas    = plan.get(\"bebidas\", [])\n",
    "\n",
    "\n",
    "resultado = bbdd(\"Años 80\", \"adolescentes\", 10, \"alto\", \"pub\",\n",
    "                 r_tema, r_musica, r_decoracion, r_juegos, r_comida, r_bebidas)\n",
    "\n",
    "print(\"ok\" if resultado == \"ok\" else \"Error en la inserción\")\n",
    "\n",
    "\n",
    "#y efectivamente aparece en nuestra base de datos."
   ]
  },
  {
   "cell_type": "markdown",
   "id": "02efa47d",
   "metadata": {},
   "source": [
    "## **CREAMOS LOS ARCHIVOS PARA UTILIZARLOS EN NUESTRA API** \n"
   ]
  },
  {
   "cell_type": "markdown",
   "id": "c9d86235",
   "metadata": {},
   "source": [
    "* *Memoria.ipynb*: Este archivo, donde documentamos y explicamos el proyecto\n",
    "* *app.py*: archivo principal donde creamos nuestra API con Flask\n",
    "* *funciones.py*: archivo con las funciones que hemos creado\n",
    "* *.env*: donde almacenamos la información sensible (local)\n",
    "* *variables.py*: archivo con las variables necesarias (excepto las sensibles)\n",
    "* *index.html*: archivo con la interfaz de nuestra app\n",
    "* *requeriments.txt*: archivo donde enumeramos las librerias necesarias para ejecutar el proyecto\n",
    "* *Dockerfile*: archivo con instrucciones para crear la imagen que encapsula nuestro proyecto\n",
    "* *test.py*: archivo con los test (pytest) para verificar que la API funciona correctamente\n"
   ]
  },
  {
   "cell_type": "markdown",
   "id": "02d2c631",
   "metadata": {},
   "source": [
    "EJEMPLO DE ARCHIVO .env (no subido al repositorio por seguridad)\n",
    "* PASSWORD_AWS= contraseña base de datos aws\n",
    "* HOST_AWS= ****.rds.amazonaws.com\n",
    "* KEY_GROQ = API KEY suministrada por GROQ para el proyecto"
   ]
  },
  {
   "cell_type": "markdown",
   "id": "b92bed0c",
   "metadata": {},
   "source": [
    "## **VISTA DEL FRONT** \n",
    "![Logo](imagenes/Web.png)"
   ]
  },
  {
   "cell_type": "markdown",
   "id": "6b5796be",
   "metadata": {},
   "source": [
    "## **ALGUNAS POSIBLES MEJORAS DEL PROYECTO** \n",
    "* Mejora estética de la web.\n",
    "\n",
    "En las respuestas: \n",
    "* Enlaces a playlists\n",
    "* Moodboard con ideas de decoración\n",
    "* Enlaces a juegos\n",
    "* Enlaces a recetas de cocina y bebidas\n",
    "\n",
    "En la base de datos:\n",
    "* Ampliar tablas de la base de datos y dividir cada sugerencia\n",
    "\n",
    "En el modelo LLM:\n",
    "* Mejora de prompt para que las respuestas sean más concretas y centradas a la pregunta.\n",
    "* Cambio de modelo por uno más potente\n"
   ]
  }
 ],
 "metadata": {
  "kernelspec": {
   "display_name": "Python 3",
   "language": "python",
   "name": "python3"
  },
  "language_info": {
   "codemirror_mode": {
    "name": "ipython",
    "version": 3
   },
   "file_extension": ".py",
   "mimetype": "text/x-python",
   "name": "python",
   "nbconvert_exporter": "python",
   "pygments_lexer": "ipython3",
   "version": "3.10.11"
  }
 },
 "nbformat": 4,
 "nbformat_minor": 5
}
